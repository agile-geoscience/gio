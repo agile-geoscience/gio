{
 "cells": [
  {
   "cell_type": "markdown",
   "metadata": {},
   "source": [
    "# Reading SPWLA file with string methods\n",
    "\n",
    "The 3 methods for extracting data are:\n",
    "\n",
    "- **Looping over the file and applying string methods, etc.** >>> this notebook.\n",
    "- Using regex to extract everything at once. >>> I have this 'sort of' working, see below.\n",
    "- Using a parser. >>> I don't think I'm clever enough for this.\n",
    "\n",
    "\n",
    "## Looping SPWLA file\n",
    "\n",
    "Let's start by just trying to read the file."
   ]
  },
  {
   "cell_type": "code",
   "execution_count": 1,
   "metadata": {},
   "outputs": [
    {
     "name": "stdout",
     "output_type": "stream",
     "text": [
      "10     2                                                                                                                       \r\n",
      "    9999/9-9                                Norway                                            9Sep99\r\n",
      "    Weatherford-Labs\r\n",
      "15    10   10\r\n",
      "          1507      1602  2031   0Weatherford-Labs    Nitrogen Permeability, Hor.\r\n",
      "          1512      1602  2031   0Weatherford-Labs    Klinkenberg corrected gas perm, Hor.\r\n",
      "          1510      1602  2031   0Weatherford-Labs    Nitrogen Permeability, Vert.\r\n",
      "          1515      1602  2031   0Weatherford-Labs    Klinkenberg corrected gas perm, Vert.\r\n",
      "          1402      1211  3084   0Weatherford-Labs    Porosity, Horizontal PLUG\r\n",
      "          1403      1211  3084   0Weatherford-Labs    Porosity, Vertical PLUG\r\n",
      "          1401      1212  3084   0Weatherford-Labs    Porosity, Summation\r\n",
      "          1302      1103  3085   0Weatherford-Labs    CORE Oil Saturation\r\n",
      "          1301      1103  3085   0Weatherford-Labs    CORE Water Saturation\r\n",
      "          2451      1201  1086   0Weatherford-Labs    Grain Density, Hor.\r\n",
      "20     1\r\n",
      "        0.00     0.00  1918.00  1983.72  0.0  1\r\n",
      "30     1\r\n",
      "     1918.95     0.00   1.11\r\n",
      "40     1   10\r\n",
      "     -1002.00000 -1002.00000 -1002.00000 -1002.00000 -1002.00000    18.44722 -1002.00000    14.78718 -1002.00000 -1002.00000\r\n",
      "30     1\r\n",
      "     1919.95     0.00   2.11\r\n",
      "40     1   10\r\n",
      "     -1002.00000 -1002.00000 -1002.00000 -1002.00000 -1002.00000    17.06246 -1002.00000    18.06427 -1002.00000 -1002.00000\r\n"
     ]
    }
   ],
   "source": [
    "!head -24 ../data/core_analysis_example.spwla"
   ]
  },
  {
   "cell_type": "markdown",
   "metadata": {},
   "source": [
    "### Observations\n",
    "\n",
    "- Some lines are 128 characters wide\n",
    "- Some of the data is unidentifiable\n",
    "- This is probably a job for striplog\n",
    "- The info after the record type (10, 15, 20, 30, etc) seems to be the number of lines (and fields per line, perhaps) in that record, which is redundant information (can just read until the next record type flag)"
   ]
  },
  {
   "cell_type": "markdown",
   "metadata": {},
   "source": [
    "## Naive approach\n",
    "\n",
    "In theory, this should be 'the easy way'... but in practice, with horrible formats like this one, it often seems to end up being quite brittle.\n",
    "\n",
    "Let's poke it and see..."
   ]
  },
  {
   "cell_type": "code",
   "execution_count": 5,
   "metadata": {},
   "outputs": [],
   "source": [
    "record_fields = {\n",
    "    'header': [['well', 'country', 'date'], ['company']],  # Occurs on 2 lines\n",
    "    'features': ['a', 'b', 'c', 'd', 'company', 'feature'],\n",
    "    'range': ['w', 'x', 'start', 'stop', 'y', 'z'],\n",
    "    'depth': ['depth', 'alpha', 'beta'],\n",
    "    'descr': ['description'],\n",
    "    'data': ['data'],  # Capture as array\n",
    "}"
   ]
  },
  {
   "cell_type": "code",
   "execution_count": 6,
   "metadata": {},
   "outputs": [],
   "source": [
    "record_type = {\n",
    "    10: 'header',\n",
    "    15: 'features',\n",
    "    20: 'range',\n",
    "    30: 'depth',\n",
    "    36: 'descr',\n",
    "    40: 'data',\n",
    "}"
   ]
  },
  {
   "cell_type": "code",
   "execution_count": 172,
   "metadata": {},
   "outputs": [],
   "source": [
    "fname = \"../data/core_analysis_example.spwla\"\n",
    "\n",
    "with open(fname, 'r') as f:\n",
    "    data = f.read()\n",
    "\n",
    "def get_blocks(data):\n",
    "    for line in data:\n",
    "        if line[:2].isnumeric():\n",
    "            code = line[:2]\n",
    "            continue\n",
    "        yield code, line\n",
    "\n",
    "for code, line in get_blocks(data.split('\\n')):\n",
    "    rec_type = record_type[int(code)]\n",
    "    fields = record_fields[rec_type]\n",
    "    \n",
    "    features = []\n",
    "    if rec_type == 'features':\n",
    "        features.append(None)"
   ]
  },
  {
   "cell_type": "markdown",
   "metadata": {},
   "source": [
    "OK, this is going to be horrendous. It's doable, but won't be pretty.\n",
    "\n",
    "It doesn't help that I have no idea what kind of variance to expect in this format."
   ]
  },
  {
   "cell_type": "code",
   "execution_count": null,
   "metadata": {},
   "outputs": [],
   "source": []
  }
 ],
 "metadata": {
  "kernelspec": {
   "display_name": "py38",
   "language": "python",
   "name": "py38"
  },
  "language_info": {
   "codemirror_mode": {
    "name": "ipython",
    "version": 3
   },
   "file_extension": ".py",
   "mimetype": "text/x-python",
   "name": "python",
   "nbconvert_exporter": "python",
   "pygments_lexer": "ipython3",
   "version": "3.8.0"
  }
 },
 "nbformat": 4,
 "nbformat_minor": 2
}
