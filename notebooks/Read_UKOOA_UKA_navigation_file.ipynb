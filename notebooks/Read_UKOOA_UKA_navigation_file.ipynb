{
 "cells": [
  {
   "cell_type": "markdown",
   "metadata": {},
   "source": [
    "# Extract and convert weird lat-lons\n",
    "\n",
    "From this conversation >> https://swung.slack.com/archives/C0AG7T5UP/p1593723082091000\n",
    "\n",
    "You will need [PyProj](https://pypi.org/project/pyproj/):\n",
    "\n",
    "    python -m pip install pyproj\n",
    "    \n",
    "If you want to do the `geopandas` stuff...\n",
    "\n",
    "    conda install --channel conda-forge geopandas\n",
    "\n",
    "... and make sure *everything* in your current environment comes from `conda-forge`. Easiest way: set it as your default channel: https://conda-forge.org/docs/user/tipsandtricks.html"
   ]
  },
  {
   "cell_type": "markdown",
   "metadata": {},
   "source": [
    "## UKA format\n",
    "\n",
    "This is a 'UKOOA Post plot navigation file'.\n",
    "\n",
    "Check out the data file:"
   ]
  },
  {
   "cell_type": "code",
   "execution_count": 1,
   "metadata": {},
   "outputs": [
    {
     "name": "stdout",
     "output_type": "stream",
     "text": [
      "H0100 Survey Area               83- AND 84- PREFIXES                            \r\n",
      "H0103 Source Details            Unknown                                         \r\n",
      "H0200 Date of survey            1983                                            \r\n",
      "H0202 Tape Version              UKOOA P1/90                                     \r\n",
      "H0300 Details of Client         British Petroleum Co                            \r\n",
      "H0400 Geophysical Contractor    HORIZON                                         \r\n",
      "H1400 Coordinate location       Unknown                                         \r\n",
      "H1500 Geodetic datum as plotted ED50       INTERNAT1924                         \r\n",
      "H2600 Exported from DTI 2D database and loaded to CDA database in 2000.       \r\n",
      "Z83-602               101601958.10N  43410.10W                                  \r\n",
      "Z83-602               110601953.80N  43421.90W                                  \r\n",
      "Z83-602               120601948.70N  43434.50W                                  \r\n",
      "Z83-602               130601943.30N  43446.70W                                  \r\n",
      "Z83-602               140601937.80N  43458.70W                                  \r\n",
      "Z83-602               150601932.20N  43510.40W                                  \r\n",
      "Z83-602               160601926.90N  43522.80W                                  \r\n",
      "Z83-602               170601922.00N  43535.80W                                  \r\n",
      "Z83-602               180601917.30N  43548.90W                                  \r\n",
      "Z83-602               190601912.00N  436 1.30W                                  \r\n",
      "Z83-602               2006019 6.60N  43613.40W                                  \r\n"
     ]
    }
   ],
   "source": [
    "!head -20 ../data/PON14_BP832D2007.UKA"
   ]
  },
  {
   "cell_type": "code",
   "execution_count": 4,
   "metadata": {},
   "outputs": [
    {
     "data": {
      "text/plain": [
       "45"
      ]
     },
     "execution_count": 4,
     "metadata": {},
     "output_type": "execute_result"
    }
   ],
   "source": [
    "int('  45')"
   ]
  },
  {
   "cell_type": "code",
   "execution_count": 10,
   "metadata": {},
   "outputs": [],
   "source": [
    "from collections import defaultdict\n",
    "\n",
    "with open(\"../data/PON14_BP832D2007.UKA\") as f:\n",
    "    data = f.readlines()\n",
    "\n",
    "lines = defaultdict(lambda: defaultdict(list))\n",
    "for s in data:\n",
    "    if s[0] == 'H':\n",
    "        continue\n",
    "    \n",
    "    name = s[:20].strip()\n",
    "    lines[name]['cdps'].append(int(s[20:25]))\n",
    "    lines[name]['lats'].append((s[25:27], s[27:29], s[29:34], s[34:35]))\n",
    "    lines[name]['lons'].append((s[35:38], s[38:40], s[40:45], s[45:46]))"
   ]
  },
  {
   "cell_type": "markdown",
   "metadata": {},
   "source": [
    "Convert to decimal degrees:"
   ]
  },
  {
   "cell_type": "code",
   "execution_count": 12,
   "metadata": {},
   "outputs": [],
   "source": [
    "def dms_to_dd(dmsa):\n",
    "    d, m, s, a = dmsa\n",
    "    return (float(d) + float(m)/60 + float(s)/(60*60)) * (-1 if a.upper() in ['W', 'S'] else 1)\n",
    "\n",
    "for line, data in lines.items():\n",
    "    lines[line]['lats'] = [dms_to_dd(dms) for dms in data['lats']]\n",
    "    lines[line]['lons'] = [dms_to_dd(dms) for dms in data['lons']]"
   ]
  },
  {
   "cell_type": "markdown",
   "metadata": {},
   "source": [
    "I think this is the source CRS: https://epsg.io/4230-8046"
   ]
  },
  {
   "cell_type": "code",
   "execution_count": 17,
   "metadata": {},
   "outputs": [],
   "source": [
    "from pyproj import Transformer\n",
    "import numpy as np\n",
    "from shapely.geometry import LineString\n",
    "\n",
    "t = Transformer.from_crs('epsg:4230', 'epsg:32631')\n",
    "\n",
    "for line, data in lines.items():\n",
    "    coords = zip(data['lats'], data['lons'])\n",
    "    xys = np.array([t.transform(lon, lat) for lat, lon in coords])\n",
    "    lines[line]['linestring'] = LineString(xys)"
   ]
  },
  {
   "cell_type": "code",
   "execution_count": 23,
   "metadata": {},
   "outputs": [],
   "source": [
    "import geopandas as gpd\n",
    "\n",
    "gdf = gpd.GeoDataFrame([(k, v['linestring']) for k, v in lines.items()],\n",
    "                       columns=['name', 'geometry'])"
   ]
  },
  {
   "cell_type": "code",
   "execution_count": 24,
   "metadata": {},
   "outputs": [
    {
     "data": {
      "text/plain": [
       "<matplotlib.axes._subplots.AxesSubplot at 0x7fe51daa3310>"
      ]
     },
     "execution_count": 24,
     "metadata": {},
     "output_type": "execute_result"
    },
    {
     "data": {
      "image/png": "[encoded data removed]",
      "text/plain": [
       "<Figure size 432x288 with 1 Axes>"
      ]
     },
     "metadata": {
      "needs_background": "light"
     },
     "output_type": "display_data"
    }
   ],
   "source": [
    "gdf.plot()"
   ]
  },
  {
   "cell_type": "code",
   "execution_count": null,
   "metadata": {},
   "outputs": [],
   "source": []
  }
 ],
 "metadata": {
  "kernelspec": {
   "display_name": "t20-fri-geo",
   "language": "python",
   "name": "t20-fri-geo"
  },
  "language_info": {
   "codemirror_mode": {
    "name": "ipython",
    "version": 3
   },
   "file_extension": ".py",
   "mimetype": "text/x-python",
   "name": "python",
   "nbconvert_exporter": "python",
   "pygments_lexer": "ipython3",
   "version": "3.8.3"
  }
 },
 "nbformat": 4,
 "nbformat_minor": 2
}
